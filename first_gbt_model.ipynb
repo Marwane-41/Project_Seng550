{
 "cells": [
  {
   "metadata": {},
   "cell_type": "markdown",
   "source": [
    "## Spark Initialization and Data Ingestion\n",
    "Create local spark session and ingest data from cloud storage."
   ],
   "id": "11b8e3e229410785"
  },
  {
   "metadata": {
    "ExecuteTime": {
     "end_time": "2024-12-21T04:33:58.360298Z",
     "start_time": "2024-12-21T04:33:55.187701Z"
    }
   },
   "cell_type": "code",
   "outputs": [],
   "execution_count": 1,
   "source": [
    "from pyspark.sql import SparkSession\n",
    "import findspark\n",
    "from pyspark.sql.functions import monotonically_increasing_id, col\n",
    "from pyspark.ml.regression import RandomForestRegressor\n",
    "findspark.init()\n",
    "spark = SparkSession.builder.master(\"local\") \\\n",
    "    .appName(\"TAXI_ML\").getOrCreate()"
   ],
   "id": "bf1488ade2deb952"
  },
  {
   "metadata": {
    "ExecuteTime": {
     "end_time": "2024-12-21T04:33:58.376140Z",
     "start_time": "2024-12-21T04:33:58.360298Z"
    }
   },
   "cell_type": "code",
   "source": [
    "from pyspark.sql.types import StructType, StructField, StringType, LongType, DoubleType, IntegerType\n",
    "\n",
    "# Define the schema with proper types for numerical fields\n",
    "schema = StructType([\n",
    "    StructField(\"medallion\", StringType(), True),\n",
    "    StructField(\"hack_license\", StringType(), True),\n",
    "    StructField(\"vendor_id\", StringType(), True),\n",
    "    StructField(\"rate_code\", StringType(), True),\n",
    "    StructField(\"store_and_fwd_flag\", IntegerType(), True),\n",
    "    StructField(\"pickup_datetime\", StringType(), True),\n",
    "    StructField(\"dropoff_datetime\", StringType(), True),\n",
    "    StructField(\"passenger_count\", IntegerType(), True),  # Integer for count\n",
    "    StructField(\"trip_time_in_secs\", LongType(), True),   # Long for time in seconds\n",
    "    StructField(\"trip_distance\", DoubleType(), True),     # Double for distance\n",
    "    StructField(\"pickup_longitude\", DoubleType(), True),  # Double for coordinates\n",
    "    StructField(\"pickup_latitude\", DoubleType(), True),   # Double for coordinates\n",
    "    StructField(\"dropoff_longitude\", DoubleType(), True), # Double for coordinates\n",
    "    StructField(\"dropoff_latitude\", DoubleType(), True)   # Double for coordinates\n",
    "])"
   ],
   "id": "621bddda7fcc9afd",
   "outputs": [],
   "execution_count": 2
  },
  {
   "metadata": {},
   "cell_type": "markdown",
   "source": "Infer Schema was making every field a string type so we manually define the schema.",
   "id": "dcb47cf80fa3c3a3"
  },
  {
   "metadata": {
    "ExecuteTime": {
     "end_time": "2024-12-21T04:33:59.857584Z",
     "start_time": "2024-12-21T04:33:58.439843Z"
    }
   },
   "cell_type": "code",
   "source": [
    "# File path to OneDrive containing raw data.\n",
    "trip_data_path = r\"C:\\Users\\nicol\\OneDrive - University of Calgary\\filteredTrips1,2,6\\raw_trip_data\\*.csv\"\n",
    "#Load from data source\n",
    "df = spark.read.format(\"csv\").schema(schema).option(\"header\", \"true\").load(trip_data_path)"
   ],
   "id": "fc0ccf370ee43030",
   "outputs": [],
   "execution_count": 3
  },
  {
   "metadata": {},
   "cell_type": "markdown",
   "source": [
    "We determined these fields would not be useful to train our ML classifiers. Medallion and hack_license are identifiers for the taxi cab. Rate code is a passenger provided rating that does would likely\n",
    "not directly impact trip times and the flag boolean refers to if the onboard taxi info was sent off to un-external server. store_and_fwd_flag in particular had many null values."
   ],
   "id": "2ffca509bf1319cb"
  },
  {
   "metadata": {
    "ExecuteTime": {
     "end_time": "2024-12-21T04:34:00.002424Z",
     "start_time": "2024-12-21T04:33:59.890321Z"
    }
   },
   "cell_type": "code",
   "source": [
    "#Drop unnecessary columns\n",
    "df = df.drop(\"medallion\")\n",
    "df = df.drop(\"hack_license\")\n",
    "df = df.drop(\"rate_code\")\n",
    "df = df.drop(\"store_and_fwd_flag\")\n",
    "\n",
    "# Add a monotonically increasing ID column for future reference if needed.\n",
    "df = df.withColumn(\"id\", monotonically_increasing_id())\n",
    "\n",
    "# Reorder columns to place `id` at the beginning\n",
    "df = df[['id'] + df.columns[:-1]]\n",
    "\n",
    "# Print the schema to check types\n",
    "df.printSchema()"
   ],
   "id": "1c18436c7aedaa64",
   "outputs": [
    {
     "name": "stdout",
     "output_type": "stream",
     "text": [
      "root\n",
      " |-- id: long (nullable = false)\n",
      " |-- vendor_id: string (nullable = true)\n",
      " |-- pickup_datetime: string (nullable = true)\n",
      " |-- dropoff_datetime: string (nullable = true)\n",
      " |-- passenger_count: integer (nullable = true)\n",
      " |-- trip_time_in_secs: long (nullable = true)\n",
      " |-- trip_distance: double (nullable = true)\n",
      " |-- pickup_longitude: double (nullable = true)\n",
      " |-- pickup_latitude: double (nullable = true)\n",
      " |-- dropoff_longitude: double (nullable = true)\n",
      " |-- dropoff_latitude: double (nullable = true)\n",
      "\n"
     ]
    }
   ],
   "execution_count": 4
  },
  {
   "metadata": {},
   "cell_type": "markdown",
   "source": "Show first 5 entries of transformed loaded data.",
   "id": "5f81bc2a8afc0233"
  },
  {
   "metadata": {
    "ExecuteTime": {
     "end_time": "2024-12-21T04:34:01.784023Z",
     "start_time": "2024-12-21T04:34:00.019033Z"
    }
   },
   "cell_type": "code",
   "source": "df.show(5)",
   "id": "d78e517d61d6e5da",
   "outputs": [
    {
     "name": "stdout",
     "output_type": "stream",
     "text": [
      "+---+---------+-------------------+-------------------+---------------+-----------------+-------------+----------------+---------------+-----------------+----------------+\n",
      "| id|vendor_id|    pickup_datetime|   dropoff_datetime|passenger_count|trip_time_in_secs|trip_distance|pickup_longitude|pickup_latitude|dropoff_longitude|dropoff_latitude|\n",
      "+---+---------+-------------------+-------------------+---------------+-----------------+-------------+----------------+---------------+-----------------+----------------+\n",
      "|  0|      CMT|2013-01-01 15:11:48|2013-01-01 15:18:10|              4|              382|          1.0|      -73.978165|      40.757977|       -73.989838|       40.751171|\n",
      "|  1|      CMT|2013-01-06 00:18:35|2013-01-06 00:22:54|              1|              259|          1.5|      -74.006683|      40.731781|       -73.994499|        40.75066|\n",
      "|  2|      CMT|2013-01-05 18:49:41|2013-01-05 18:54:23|              1|              282|          1.1|      -74.004707|       40.73777|       -74.009834|       40.726002|\n",
      "|  3|      CMT|2013-01-07 23:54:15|2013-01-07 23:58:20|              2|              244|          0.7|      -73.974602|      40.759945|       -73.984734|       40.759388|\n",
      "|  4|      CMT|2013-01-07 23:25:03|2013-01-07 23:34:24|              1|              560|          2.1|       -73.97625|      40.748528|       -74.002586|       40.747868|\n",
      "+---+---------+-------------------+-------------------+---------------+-----------------+-------------+----------------+---------------+-----------------+----------------+\n",
      "only showing top 5 rows\n",
      "\n"
     ]
    }
   ],
   "execution_count": 5
  },
  {
   "metadata": {},
   "cell_type": "markdown",
   "source": [
    "## Data Cleaning\n",
    "While passenger_count and trip_distance remain useful to us. 0's in these fields would indicate invalid trips and should not be used in training."
   ],
   "id": "a187b6b4fb48b6ea"
  },
  {
   "metadata": {
    "ExecuteTime": {
     "end_time": "2024-12-21T04:34:01.830614Z",
     "start_time": "2024-12-21T04:34:01.800243Z"
    }
   },
   "cell_type": "code",
   "outputs": [],
   "execution_count": 6,
   "source": [
    "df = df.dropna()\n",
    "df = df.filter(df[\"passenger_count\"] != 0)\n",
    "df = df.filter(df[\"trip_distance\"] != 0)\n",
    "df = df.dropDuplicates()"
   ],
   "id": "204dda48319e2598"
  },
  {
   "metadata": {},
   "cell_type": "markdown",
   "source": [
    "# Gradient Boosted Trees Classifier\n",
    "With Gradient Boosted Trees we again chose to keep the features as is without cyclical encoding."
   ],
   "id": "1c8e3fec2f297b08"
  },
  {
   "metadata": {
    "ExecuteTime": {
     "end_time": "2024-12-21T07:16:51.921209Z",
     "start_time": "2024-12-21T07:16:51.906447Z"
    }
   },
   "cell_type": "code",
   "source": [
    "features_Needed = [\"trip_distance\", \"passenger_count\",\"hour_of_day\", \"day_of_week\", \"is_weekend\"]\n",
    "\n",
    "# in regression models , we need to specify the label or a target we wish to predict , in this case\n",
    "# we are trying to predict trip_times in secs\n",
    "label = \"trip_time_in_secs\"\n",
    "\n",
    "# now we need to assemble the features into a single vector\n",
    "# source used :\n",
    "# https://www.machinelearningplus.com/pyspark/pyspark-gradient-boosting-model/"
   ],
   "id": "800cad1ae0b76ed7",
   "outputs": [],
   "execution_count": 19
  },
  {
   "metadata": {},
   "cell_type": "markdown",
   "source": "Assemble the feature vector, split the dataset 80-20, and train.",
   "id": "a15a1f1c9a7dd374"
  },
  {
   "metadata": {
    "ExecuteTime": {
     "end_time": "2024-12-21T07:16:54.147326Z",
     "start_time": "2024-12-21T07:16:53.819003Z"
    }
   },
   "cell_type": "code",
   "source": [
    "from pyspark.ml.feature import VectorAssembler\n",
    "\n",
    "assembler = VectorAssembler(inputCols=features_Needed, outputCol=\"features\")\n",
    "\n",
    "prepared_data_gbt = assembler.transform(df)\n",
    "prepared_data_gbt.show(5)"
   ],
   "id": "ffa80655665282ce",
   "outputs": [
    {
     "name": "stdout",
     "output_type": "stream",
     "text": [
      "+---+---------+-------------------+-------------------+---------------+-----------------+-------------+----------------+---------------+-----------------+----------------+-----------+-----------+----------+--------------------+\n",
      "| id|vendor_id|    pickup_datetime|   dropoff_datetime|passenger_count|trip_time_in_secs|trip_distance|pickup_longitude|pickup_latitude|dropoff_longitude|dropoff_latitude|day_of_week|hour_of_day|is_weekend|            features|\n",
      "+---+---------+-------------------+-------------------+---------------+-----------------+-------------+----------------+---------------+-----------------+----------------+-----------+-----------+----------+--------------------+\n",
      "|  0|      CMT|2013-01-01 15:11:48|2013-01-01 15:18:10|              4|              382|          1.0|      -73.978165|      40.757977|       -73.989838|       40.751171|          3|         15|         0|[1.0,4.0,15.0,3.0...|\n",
      "|  1|      CMT|2013-01-06 00:18:35|2013-01-06 00:22:54|              1|              259|          1.5|      -74.006683|      40.731781|       -73.994499|        40.75066|          1|          0|         1|[1.5,1.0,0.0,1.0,...|\n",
      "|  2|      CMT|2013-01-05 18:49:41|2013-01-05 18:54:23|              1|              282|          1.1|      -74.004707|       40.73777|       -74.009834|       40.726002|          7|         18|         1|[1.1,1.0,18.0,7.0...|\n",
      "|  3|      CMT|2013-01-07 23:54:15|2013-01-07 23:58:20|              2|              244|          0.7|      -73.974602|      40.759945|       -73.984734|       40.759388|          2|         23|         0|[0.7,2.0,23.0,2.0...|\n",
      "|  4|      CMT|2013-01-07 23:25:03|2013-01-07 23:34:24|              1|              560|          2.1|       -73.97625|      40.748528|       -74.002586|       40.747868|          2|         23|         0|[2.1,1.0,23.0,2.0...|\n",
      "+---+---------+-------------------+-------------------+---------------+-----------------+-------------+----------------+---------------+-----------------+----------------+-----------+-----------+----------+--------------------+\n",
      "only showing top 5 rows\n",
      "\n"
     ]
    }
   ],
   "execution_count": 20
  },
  {
   "metadata": {
    "ExecuteTime": {
     "end_time": "2024-12-21T09:25:08.287308Z",
     "start_time": "2024-12-21T07:17:06.290888Z"
    }
   },
   "cell_type": "code",
   "source": [
    "from pyspark.ml.regression import GBTRegressor\n",
    "\n",
    "train_data, test_data = prepared_data_gbt.randomSplit([0.8, 0.2], seed=42)\n",
    "\n",
    "gbt = GBTRegressor(featuresCol=\"features\", labelCol=\"trip_time_in_secs\", maxIter=10 )\n",
    "model = gbt.fit(train_data)\n",
    "model.save(r\"models\\gbt_model\")"
   ],
   "id": "84852d69249574f2",
   "outputs": [],
   "execution_count": 21
  },
  {
   "metadata": {},
   "cell_type": "markdown",
   "source": "## Evaluate",
   "id": "a4ea90439ae8296a"
  },
  {
   "metadata": {
    "ExecuteTime": {
     "end_time": "2024-12-21T09:46:29.718388Z",
     "start_time": "2024-12-21T09:25:08.345641Z"
    }
   },
   "cell_type": "code",
   "source": [
    "from pyspark.ml.evaluation import RegressionEvaluator\n",
    "\n",
    "predictions = model.transform(test_data)\n",
    "evaluator_rmse = RegressionEvaluator(labelCol=\"trip_time_in_secs\", predictionCol=\"prediction\", metricName=\"rmse\")\n",
    "evaluator_mae = RegressionEvaluator(labelCol=\"trip_time_in_secs\", predictionCol=\"prediction\", metricName=\"mae\")\n",
    "evaluator_r2 = RegressionEvaluator(labelCol=\"trip_time_in_secs\", predictionCol=\"prediction\", metricName=\"r2\")\n",
    "\n",
    "# Compute metrics\n",
    "rmse = evaluator_rmse.evaluate(predictions)\n",
    "mae = evaluator_mae.evaluate(predictions)\n",
    "r2 = evaluator_r2.evaluate(predictions)\n",
    "\n",
    "# View required metrics\n",
    "print(f\"Root Mean Squared Error (RMSE): {rmse}\")\n",
    "print(f\"Mean Absolute Error (MAE): {mae}\")\n",
    "print(f\"R² (Coefficient of Determination): {r2}\")"
   ],
   "id": "bfea19cb274547c6",
   "outputs": [
    {
     "name": "stdout",
     "output_type": "stream",
     "text": [
      "Root Mean Squared Error (RMSE): 15772.044832113776\n",
      "Mean Absolute Error (MAE): 292.7362954156453\n",
      "R² (Coefficient of Determination): 0.0010817964917416711\n"
     ]
    }
   ],
   "execution_count": 22
  }
 ],
 "metadata": {
  "kernelspec": {
   "display_name": "Python 3",
   "language": "python",
   "name": "python3"
  },
  "language_info": {
   "codemirror_mode": {
    "name": "ipython",
    "version": 2
   },
   "file_extension": ".py",
   "mimetype": "text/x-python",
   "name": "python",
   "nbconvert_exporter": "python",
   "pygments_lexer": "ipython2",
   "version": "2.7.6"
  }
 },
 "nbformat": 4,
 "nbformat_minor": 5
}
